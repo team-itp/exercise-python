{
  "nbformat": 4,
  "nbformat_minor": 0,
  "metadata": {
    "colab": {
      "name": "Untitled1.ipynb",
      "version": "0.3.2",
      "provenance": [],
      "toc_visible": true,
      "include_colab_link": true
    },
    "kernelspec": {
      "name": "python3",
      "display_name": "Python 3"
    }
  },
  "cells": [
    {
      "cell_type": "markdown",
      "metadata": {
        "id": "view-in-github",
        "colab_type": "text"
      },
      "source": [
        "[View in Colaboratory](https://colab.research.google.com/github/team-itp/exercise-python/blob/master/exercise.ipynb)"
      ]
    },
    {
      "metadata": {
        "id": "SoxPaIBOx7uk",
        "colab_type": "text"
      },
      "cell_type": "markdown",
      "source": [
        "1. コンソールに「Hello, World」を表示する\n"
      ]
    },
    {
      "metadata": {
        "id": "vxU9X-cayUJs",
        "colab_type": "code",
        "colab": {
          "base_uri": "https://localhost:8080/",
          "height": 35
        },
        "outputId": "cc7ec66c-f0ca-49f6-bbea-75392bf8c497"
      },
      "cell_type": "code",
      "source": [
        "print(\"Hello, World\")"
      ],
      "execution_count": 5,
      "outputs": [
        {
          "output_type": "stream",
          "text": [
            "Hello, World\n"
          ],
          "name": "stdout"
        }
      ]
    },
    {
      "metadata": {
        "id": "TqU81K7h55V3",
        "colab_type": "text"
      },
      "cell_type": "markdown",
      "source": [
        "2. コンソールに「Hello, World」を 5 回繰り返して表示する\n"
      ]
    },
    {
      "metadata": {
        "id": "f5MX0-Qb6Dwr",
        "colab_type": "code",
        "colab": {
          "base_uri": "https://localhost:8080/",
          "height": 107
        },
        "outputId": "3878359c-6e72-4d3b-a7d0-da209305e6df"
      },
      "cell_type": "code",
      "source": [
        "for i in range(5):\n",
        "  print(\"Hello, World\")"
      ],
      "execution_count": 6,
      "outputs": [
        {
          "output_type": "stream",
          "text": [
            "Hello, World\n",
            "Hello, World\n",
            "Hello, World\n",
            "Hello, World\n",
            "Hello, World\n"
          ],
          "name": "stdout"
        }
      ]
    },
    {
      "metadata": {
        "id": "OJkzJVDaAIrJ",
        "colab_type": "text"
      },
      "cell_type": "markdown",
      "source": [
        "3. コンソールから文字列を読み取ってそれを表示する"
      ]
    },
    {
      "metadata": {
        "id": "Sre5q9JEAjbS",
        "colab_type": "code",
        "colab": {
          "base_uri": "https://localhost:8080/",
          "height": 71
        },
        "outputId": "a7d1584f-7c25-4d52-c6ec-226323b3428e"
      },
      "cell_type": "code",
      "source": [
        "print(\"文字を入力してください\")\n",
        "val = input()\n",
        "print(val)"
      ],
      "execution_count": 7,
      "outputs": [
        {
          "output_type": "stream",
          "text": [
            "文字を入力してください\n",
            "value\n",
            "value\n"
          ],
          "name": "stdout"
        }
      ]
    },
    {
      "metadata": {
        "id": "IEYQ2Cz-F7Py",
        "colab_type": "text"
      },
      "cell_type": "markdown",
      "source": [
        "4. コンソールから文字列を読み取って、読み取った文字列を数字に変換し、その回数繰り返してコンソールに「Hello, World」を表示する\n"
      ]
    },
    {
      "metadata": {
        "id": "UQzm9TdDGAiT",
        "colab_type": "code",
        "colab": {
          "base_uri": "https://localhost:8080/",
          "height": 1853
        },
        "outputId": "c25cf72e-8469-4c29-a93b-501f821c22d8"
      },
      "cell_type": "code",
      "source": [
        "print(\"数字を入力してください\")\n",
        "val = int(input())\n",
        "for i in range(val):\n",
        "  print(\"Hello, world!\") "
      ],
      "execution_count": 4,
      "outputs": [
        {
          "output_type": "stream",
          "text": [
            "数字を入力してください\n",
            "100\n",
            "Hello, world!\n",
            "Hello, world!\n",
            "Hello, world!\n",
            "Hello, world!\n",
            "Hello, world!\n",
            "Hello, world!\n",
            "Hello, world!\n",
            "Hello, world!\n",
            "Hello, world!\n",
            "Hello, world!\n",
            "Hello, world!\n",
            "Hello, world!\n",
            "Hello, world!\n",
            "Hello, world!\n",
            "Hello, world!\n",
            "Hello, world!\n",
            "Hello, world!\n",
            "Hello, world!\n",
            "Hello, world!\n",
            "Hello, world!\n",
            "Hello, world!\n",
            "Hello, world!\n",
            "Hello, world!\n",
            "Hello, world!\n",
            "Hello, world!\n",
            "Hello, world!\n",
            "Hello, world!\n",
            "Hello, world!\n",
            "Hello, world!\n",
            "Hello, world!\n",
            "Hello, world!\n",
            "Hello, world!\n",
            "Hello, world!\n",
            "Hello, world!\n",
            "Hello, world!\n",
            "Hello, world!\n",
            "Hello, world!\n",
            "Hello, world!\n",
            "Hello, world!\n",
            "Hello, world!\n",
            "Hello, world!\n",
            "Hello, world!\n",
            "Hello, world!\n",
            "Hello, world!\n",
            "Hello, world!\n",
            "Hello, world!\n",
            "Hello, world!\n",
            "Hello, world!\n",
            "Hello, world!\n",
            "Hello, world!\n",
            "Hello, world!\n",
            "Hello, world!\n",
            "Hello, world!\n",
            "Hello, world!\n",
            "Hello, world!\n",
            "Hello, world!\n",
            "Hello, world!\n",
            "Hello, world!\n",
            "Hello, world!\n",
            "Hello, world!\n",
            "Hello, world!\n",
            "Hello, world!\n",
            "Hello, world!\n",
            "Hello, world!\n",
            "Hello, world!\n",
            "Hello, world!\n",
            "Hello, world!\n",
            "Hello, world!\n",
            "Hello, world!\n",
            "Hello, world!\n",
            "Hello, world!\n",
            "Hello, world!\n",
            "Hello, world!\n",
            "Hello, world!\n",
            "Hello, world!\n",
            "Hello, world!\n",
            "Hello, world!\n",
            "Hello, world!\n",
            "Hello, world!\n",
            "Hello, world!\n",
            "Hello, world!\n",
            "Hello, world!\n",
            "Hello, world!\n",
            "Hello, world!\n",
            "Hello, world!\n",
            "Hello, world!\n",
            "Hello, world!\n",
            "Hello, world!\n",
            "Hello, world!\n",
            "Hello, world!\n",
            "Hello, world!\n",
            "Hello, world!\n",
            "Hello, world!\n",
            "Hello, world!\n",
            "Hello, world!\n",
            "Hello, world!\n",
            "Hello, world!\n",
            "Hello, world!\n",
            "Hello, world!\n",
            "Hello, world!\n"
          ],
          "name": "stdout"
        }
      ]
    },
    {
      "metadata": {
        "id": "D0mbjcnPF7Xc",
        "colab_type": "text"
      },
      "cell_type": "markdown",
      "source": [
        "5. 1 から 100 までコンソールに表示する。ただし、3 の倍数は Fizz を表示する"
      ]
    },
    {
      "metadata": {
        "id": "zY-B9oGgIwT_",
        "colab_type": "code",
        "colab": {
          "base_uri": "https://localhost:8080/",
          "height": 1817
        },
        "outputId": "7f1ef0eb-c586-45c5-8250-fa3930900ac8"
      },
      "cell_type": "code",
      "source": [
        "for i in range(1,101):\n",
        "  if (i % 3 == 0):\n",
        "    print(\"Fizz\")\n",
        "  else:\n",
        "    print(i)"
      ],
      "execution_count": 10,
      "outputs": [
        {
          "output_type": "stream",
          "text": [
            "1\n",
            "2\n",
            "Fizz\n",
            "4\n",
            "5\n",
            "Fizz\n",
            "7\n",
            "8\n",
            "Fizz\n",
            "10\n",
            "11\n",
            "Fizz\n",
            "13\n",
            "14\n",
            "Fizz\n",
            "16\n",
            "17\n",
            "Fizz\n",
            "19\n",
            "20\n",
            "Fizz\n",
            "22\n",
            "23\n",
            "Fizz\n",
            "25\n",
            "26\n",
            "Fizz\n",
            "28\n",
            "29\n",
            "Fizz\n",
            "31\n",
            "32\n",
            "Fizz\n",
            "34\n",
            "35\n",
            "Fizz\n",
            "37\n",
            "38\n",
            "Fizz\n",
            "40\n",
            "41\n",
            "Fizz\n",
            "43\n",
            "44\n",
            "Fizz\n",
            "46\n",
            "47\n",
            "Fizz\n",
            "49\n",
            "50\n",
            "Fizz\n",
            "52\n",
            "53\n",
            "Fizz\n",
            "55\n",
            "56\n",
            "Fizz\n",
            "58\n",
            "59\n",
            "Fizz\n",
            "61\n",
            "62\n",
            "Fizz\n",
            "64\n",
            "65\n",
            "Fizz\n",
            "67\n",
            "68\n",
            "Fizz\n",
            "70\n",
            "71\n",
            "Fizz\n",
            "73\n",
            "74\n",
            "Fizz\n",
            "76\n",
            "77\n",
            "Fizz\n",
            "79\n",
            "80\n",
            "Fizz\n",
            "82\n",
            "83\n",
            "Fizz\n",
            "85\n",
            "86\n",
            "Fizz\n",
            "88\n",
            "89\n",
            "Fizz\n",
            "91\n",
            "92\n",
            "Fizz\n",
            "94\n",
            "95\n",
            "Fizz\n",
            "97\n",
            "98\n",
            "Fizz\n",
            "100\n"
          ],
          "name": "stdout"
        }
      ]
    },
    {
      "metadata": {
        "id": "YfOVNfiLJYfS",
        "colab_type": "text"
      },
      "cell_type": "markdown",
      "source": [
        "6. 1 から 100 までコンソールに表示する。ただし、5 の倍数は Buzz を表示する"
      ]
    },
    {
      "metadata": {
        "id": "zEafoS7PNszp",
        "colab_type": "code",
        "colab": {}
      },
      "cell_type": "code",
      "source": [
        "for i in range(1,101):\n",
        "  if (i % 5 == 0):\n",
        "    print(\"Buzz\")\n",
        "  else:\n",
        "    print(i)"
      ],
      "execution_count": 0,
      "outputs": []
    },
    {
      "metadata": {
        "id": "qvj5NyP6nuht",
        "colab_type": "text"
      },
      "cell_type": "markdown",
      "source": [
        "7. 1 から 100 までコンソールに表示する。ただし、3 の倍数は Fizz、5 の倍数は Buzz、3 と 5 の倍数は FizzBuzz を表示する"
      ]
    },
    {
      "metadata": {
        "id": "XPrUtUKpn0RO",
        "colab_type": "code",
        "colab": {
          "base_uri": "https://localhost:8080/",
          "height": 1817
        },
        "outputId": "e8274681-33f1-481a-ef9f-959272e3f7f8"
      },
      "cell_type": "code",
      "source": [
        "for i in range(1,101):\n",
        "  if (i % 15 == 0):\n",
        "    print(\"FizzBuzz\")\n",
        "  elif (i % 3 == 0):\n",
        "    print(\"Fizz\")\n",
        "  elif (i % 5 == 0):\n",
        "    print(\"Buzz\")\n",
        "  else:\n",
        "    print(i)"
      ],
      "execution_count": 4,
      "outputs": [
        {
          "output_type": "stream",
          "text": [
            "1\n",
            "2\n",
            "Fizz\n",
            "4\n",
            "Buzz\n",
            "Fizz\n",
            "7\n",
            "8\n",
            "Fizz\n",
            "Buzz\n",
            "11\n",
            "Fizz\n",
            "13\n",
            "14\n",
            "FizzBuzz\n",
            "16\n",
            "17\n",
            "Fizz\n",
            "19\n",
            "Buzz\n",
            "Fizz\n",
            "22\n",
            "23\n",
            "Fizz\n",
            "Buzz\n",
            "26\n",
            "Fizz\n",
            "28\n",
            "29\n",
            "FizzBuzz\n",
            "31\n",
            "32\n",
            "Fizz\n",
            "34\n",
            "Buzz\n",
            "Fizz\n",
            "37\n",
            "38\n",
            "Fizz\n",
            "Buzz\n",
            "41\n",
            "Fizz\n",
            "43\n",
            "44\n",
            "FizzBuzz\n",
            "46\n",
            "47\n",
            "Fizz\n",
            "49\n",
            "Buzz\n",
            "Fizz\n",
            "52\n",
            "53\n",
            "Fizz\n",
            "Buzz\n",
            "56\n",
            "Fizz\n",
            "58\n",
            "59\n",
            "FizzBuzz\n",
            "61\n",
            "62\n",
            "Fizz\n",
            "64\n",
            "Buzz\n",
            "Fizz\n",
            "67\n",
            "68\n",
            "Fizz\n",
            "Buzz\n",
            "71\n",
            "Fizz\n",
            "73\n",
            "74\n",
            "FizzBuzz\n",
            "76\n",
            "77\n",
            "Fizz\n",
            "79\n",
            "Buzz\n",
            "Fizz\n",
            "82\n",
            "83\n",
            "Fizz\n",
            "Buzz\n",
            "86\n",
            "Fizz\n",
            "88\n",
            "89\n",
            "FizzBuzz\n",
            "91\n",
            "92\n",
            "Fizz\n",
            "94\n",
            "Buzz\n",
            "Fizz\n",
            "97\n",
            "98\n",
            "Fizz\n",
            "Buzz\n"
          ],
          "name": "stdout"
        }
      ]
    },
    {
      "metadata": {
        "id": "c3faNKzioeMc",
        "colab_type": "text"
      },
      "cell_type": "markdown",
      "source": [
        "8. コンソールから数値を読み取って、その数値が素数かどうか判定する"
      ]
    },
    {
      "metadata": {
        "id": "efJT8APZoh3X",
        "colab_type": "code",
        "colab": {
          "base_uri": "https://localhost:8080/",
          "height": 71
        },
        "outputId": "c426f4c3-ebed-4e71-a650-283e65ad84a5"
      },
      "cell_type": "code",
      "source": [
        "print(\"数値を入力してください\")\n",
        "inputNum = int(input())\n",
        "if (inputNum < 2):\n",
        "  print(\"2以上の値を入力してください\")\n",
        "elif (inputNum < 4):\n",
        "  print(str(inputNum)+\"は素数です\")\n",
        "else:\n",
        "  isPrime = True\n",
        "  for i in range(2,inputNum):\n",
        "    if (inputNum % i == 0):\n",
        "      isPrime = False\n",
        "  if (isPrime):\n",
        "    print(str(inputNum)+\"は素数です\")\n",
        "  else:\n",
        "    print(str(inputNum)+\"は素数ではありません\")\n",
        "  "
      ],
      "execution_count": 26,
      "outputs": [
        {
          "output_type": "stream",
          "text": [
            "数値を入力してください\n",
            "4\n",
            "4は素数ではありません\n"
          ],
          "name": "stdout"
        }
      ]
    },
    {
      "metadata": {
        "id": "7n9RqIR740qb",
        "colab_type": "text"
      },
      "cell_type": "markdown",
      "source": [
        "9. コンソールから文字列を読み取って、読み取った文字列を数値に変換する (※ただし Scanner#nextInt、Integer#parseInt 等を使用しないこと)"
      ]
    },
    {
      "metadata": {
        "id": "d0Pjddsf45EU",
        "colab_type": "code",
        "colab": {
          "base_uri": "https://localhost:8080/",
          "height": 71
        },
        "outputId": "05d8ee75-e73c-4fae-f2de-a73df1e2913d"
      },
      "cell_type": "code",
      "source": [
        "import sys\n",
        "print(\"数値を入力してください\")\n",
        "inputNumStr = input()\n",
        "inputNum = 0\n",
        "for i in bytes(inputNumStr, encoding='utf-8', errors='replace'):\n",
        "  if (48 < i > 57):\n",
        "    print(\"正しい数値を入力してください\")\n",
        "    raise\n",
        "  else:\n",
        "    inputNum = inputNum * 10 + (i - 48)\n",
        "print(\"入力された数値は\"+str(inputNum)+\"です\")\n",
        "  "
      ],
      "execution_count": 4,
      "outputs": [
        {
          "output_type": "stream",
          "text": [
            "数値を入力してください\n",
            "1234567890\n",
            "入力された数値は1234567890です\n"
          ],
          "name": "stdout"
        }
      ]
    }
  ]
}